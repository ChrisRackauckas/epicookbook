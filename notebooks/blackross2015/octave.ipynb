{
 "cells": [
  {
   "cell_type": "markdown",
   "metadata": {},
   "source": [
    "### Final size for SIR model"
   ]
  },
  {
   "cell_type": "code",
   "execution_count": 1,
   "metadata": {},
   "outputs": [],
   "source": [
    "function final_size=SIR_fs(N,bet,gamm)\n",
    "    final_size = zeros(N+1,1);\n",
    "    final_size(2) = 1;\n",
    "    for Z2 = 0:N;\n",
    "        for Z1 = Z2+1:N-1\n",
    "            p1 = 1 / ( 1 + gamm/(bet*(N-Z1)));\n",
    "            final_size(Z1+2) = final_size(Z1+2) + final_size(Z1+1)*p1;       \n",
    "            final_size(Z1+1) = final_size(Z1+1)*(1-p1);\n",
    "        end\n",
    "    end\n",
    "endfunction"
   ]
  },
  {
   "cell_type": "code",
   "execution_count": 2,
   "metadata": {},
   "outputs": [],
   "source": [
    "N = 20;                       \n",
    "bet = 2/(N-1);\n",
    "gamm = 1;"
   ]
  },
  {
   "cell_type": "code",
   "execution_count": 3,
   "metadata": {},
   "outputs": [
    {
     "name": "stdout",
     "output_type": "stream",
     "text": [
      "Elapsed time is 0.0100751 seconds.\n"
     ]
    }
   ],
   "source": [
    "id = tic();\n",
    "final_size=SIR_fs(N,bet,gamm);\n",
    "toc(id)"
   ]
  },
  {
   "cell_type": "code",
   "execution_count": 4,
   "metadata": {},
   "outputs": [
    {
     "data": {
      "image/png": "[encoded data removed]",
      "text/plain": [
       "<IPython.core.display.Image object>"
      ]
     },
     "metadata": {},
     "output_type": "display_data"
    }
   ],
   "source": [
    "bar(0:N,final_size)"
   ]
  },
  {
   "cell_type": "markdown",
   "metadata": {},
   "source": [
    "## Final size for SI(4)R model"
   ]
  },
  {
   "cell_type": "code",
   "execution_count": 5,
   "metadata": {},
   "outputs": [],
   "source": [
    "function final_size=SI4R_fs(N,bet,gamm)\n",
    "    Psi = (N+1)*(N+2)*(N+3)*(N+4)/24;\n",
    "    final_size = zeros(N+1,1);\n",
    "    p_vec = zeros(Psi,1);\n",
    "    p_vec(2)=1;\n",
    "\n",
    "    for Z5 = 0:N\n",
    "        w = Psi - (N-Z5+1)*(N-Z5+2)*(N-Z5+3)*(N-Z5+4)/24 + 1; \n",
    "        for Z4 = Z5:N\n",
    "            a5 = 4*gamm*(Z4-Z5);\n",
    "            for Z3 = Z4:N\n",
    "                a4 = 4*gamm*(Z3-Z4);\n",
    "                for Z2 = Z3:N;\n",
    "                    a3 = 4*gamm*(Z2-Z3);            \n",
    "                    for Z1 = Z2:N\n",
    "                        a1 = bet*(N-Z1)*(Z1-Z5);   \n",
    "                        a2 = 4*gamm*(Z1-Z2);\n",
    "                        tot = a1+a2+a3+a4+a5;\n",
    "                        if Z1-Z5 == 0\n",
    "                            final_size(Z5+1) = p_vec(w);\n",
    "                        end\n",
    "                        if a1 > 0\n",
    "                           p_vec(w+1) = p_vec(w+1)+ p_vec(w)*a1/tot;\n",
    "                        end\n",
    "                        if a2 > 0\n",
    "                            p_vec(w+N-Z2) = p_vec(w+N-Z2)+ p_vec(w)*a2/tot;\n",
    "                        end\n",
    "                        if a3 > 0\n",
    "                            place3 = (N-Z3)*(N-Z3+1)/2;\n",
    "                            p_vec(w+place3) = p_vec(w+place3)+ p_vec(w)*a3/tot;\n",
    "                        end\n",
    "                        if a4 > 0\n",
    "                            place4 = (N-Z4)*(N-Z4+1)*(N-Z4+2)/6; \n",
    "                            p_vec(w+place4) = p_vec(w+place4) + p_vec(w)*a4/tot;\n",
    "                        end\n",
    "                        if a5 > 0\n",
    "                            p_vec(w) = p_vec(w)*a5/tot;\n",
    "                        end\n",
    "                        w = w + 1;\n",
    "                    end\n",
    "                end\n",
    "            end\n",
    "        end\n",
    "    end\n",
    "endfunction"
   ]
  },
  {
   "cell_type": "code",
   "execution_count": 6,
   "metadata": {},
   "outputs": [
    {
     "name": "stdout",
     "output_type": "stream",
     "text": [
      "Elapsed time is 3.31001 seconds.\n"
     ]
    }
   ],
   "source": [
    "id = tic();\n",
    "final_size=SI4R_fs(N,bet,gamm);\n",
    "toc(id)"
   ]
  },
  {
   "cell_type": "code",
   "execution_count": 7,
   "metadata": {},
   "outputs": [
    {
     "data": {
      "image/png": "[encoded data removed]",
      "text/plain": [
       "<IPython.core.display.Image object>"
      ]
     },
     "metadata": {},
     "output_type": "display_data"
    }
   ],
   "source": [
    "bar(0:N,final_size)"
   ]
  }
 ],
 "metadata": {
  "kernelspec": {
   "display_name": "Octave",
   "language": "octave",
   "name": "octave"
  },
  "language_info": {
   "file_extension": ".m",
   "help_links": [
    {
     "text": "GNU Octave",
     "url": "https://www.gnu.org/software/octave/support.html"
    },
    {
     "text": "Octave Kernel",
     "url": "https://github.com/Calysto/octave_kernel"
    },
    {
     "text": "MetaKernel Magics",
     "url": "https://github.com/calysto/metakernel/blob/master/metakernel/magics/README.md"
    }
   ],
   "mimetype": "text/x-octave",
   "name": "octave",
   "version": "4.2.2"
  }
 },
 "nbformat": 4,
 "nbformat_minor": 2
}
