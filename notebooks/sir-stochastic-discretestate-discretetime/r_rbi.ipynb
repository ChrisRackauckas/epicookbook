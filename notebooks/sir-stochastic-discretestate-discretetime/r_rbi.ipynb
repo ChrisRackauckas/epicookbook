{
 "cells": [
  {
   "cell_type": "code",
   "execution_count": null,
   "metadata": {},
   "outputs": [],
   "source": [
    "library(rbi)"
   ]
  },
  {
   "cell_type": "code",
   "execution_count": null,
   "metadata": {},
   "outputs": [],
   "source": [
    "sir.bi <- \"\n",
    "model sir {\n",
    "  const N = 403\n",
    "  const timestep = 0.1\n",
    "  state S, I, R, Y\n",
    "  param bet, gamm, iota\n",
    "  noise infection, recovery\n",
    "  sub parameter {\n",
    "    bet <- 2.62110617498984\n",
    "    gamm <- 0.5384615384615384\n",
    "    iota <- 0.5\n",
    "  }\n",
    "  sub initial {\n",
    "    S <- 60\n",
    "    I <- 1\n",
    "    R <- 342\n",
    "    Y <- 0    \n",
    "  }\n",
    "  sub transition (delta=timestep) {\n",
    "    inline lambd = bet*(I+iota)/N\n",
    "    inline ifrac = 1.0-exp(-lambd*timestep)\n",
    "    inline rfrac = 1.0-exp(-gamm*timestep)\n",
    "    infection ~ binomial(S,ifrac)\n",
    "    recovery ~ binomial(I,rfrac)\n",
    "    S <- S - infection\n",
    "    I <- I + infection - recovery\n",
    "    R <- R + recovery\n",
    "    Y <- Y + infection\n",
    "  }\n",
    "}\n",
    "\""
   ]
  },
  {
   "cell_type": "code",
   "execution_count": null,
   "metadata": {},
   "outputs": [],
   "source": [
    "sir.bi.model <- bi_model(lines=sir.bi)\n",
    "sir.bi.obj <- libbi(model=sir.bi.model)\n",
    "sir.bi.sample <- sample(sir.bi.obj,\n",
    "                        target=\"joint\",\n",
    "                        end_time=54.0,\n",
    "                        nsamples=1000,\n",
    "                        seed=1)\n",
    "sir.bi.results <- bi_read(sir.bi.sample$output_file_name)"
   ]
  },
  {
   "cell_type": "code",
   "execution_count": null,
   "metadata": {},
   "outputs": [],
   "source": [
    "sir.bi.results"
   ]
  }
 ],
 "metadata": {
  "kernelspec": {
   "display_name": "R",
   "language": "R",
   "name": "ir"
  },
  "language_info": {
   "codemirror_mode": "r",
   "file_extension": ".r",
   "mimetype": "text/x-r-source",
   "name": "R",
   "pygments_lexer": "r",
   "version": "3.4.4"
  }
 },
 "nbformat": 4,
 "nbformat_minor": 2
}
