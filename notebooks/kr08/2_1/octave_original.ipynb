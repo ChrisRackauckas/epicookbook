{
 "cells": [
  {
   "cell_type": "markdown",
   "metadata": {},
   "source": [
    "## Program 2.1 (SIR model) - original Matlab/Octave code"
   ]
  },
  {
   "cell_type": "code",
   "execution_count": 1,
   "metadata": {},
   "outputs": [],
   "source": [
    "function dPop=Diff_2_1(t, pop, parameter)\n",
    "    beta=parameter(1);\n",
    "    gamma=parameter(2);\n",
    "    S=pop(1);\n",
    "    I=pop(2);\n",
    "    R=pop(3);\n",
    "\n",
    "    dPop=zeros(3,1);\n",
    "\n",
    "    dPop(1)= -beta*S*I;\n",
    "    dPop(2)= beta*S*I - gamma*I;\n",
    "    dPop(3)= gamma*I;\n",
    "endfunction"
   ]
  },
  {
   "cell_type": "code",
   "execution_count": 2,
   "metadata": {},
   "outputs": [],
   "source": [
    "function [t,S,I,R] = Program_2_1(beta,gamma,S0,I0,MaxTime)\n",
    "    S=S0;\n",
    "    I=I0;\n",
    "    R=1-S-I;\n",
    "    [t, pop]=ode45(@(t,y) Diff_2_1(t,y,[beta gamma]),[0 MaxTime],[S I R]);\n",
    "    S=pop(:,1); I=pop(:,2); R=pop(:,3);\n",
    "endfunction"
   ]
  },
  {
   "cell_type": "code",
   "execution_count": 3,
   "metadata": {},
   "outputs": [],
   "source": [
    "[t,S,I,R] = Program_2_1(1.4247,0.14286,1-1e-6,1e-6,70);"
   ]
  },
  {
   "cell_type": "code",
   "execution_count": 4,
   "metadata": {},
   "outputs": [
    {
     "data": {
      "image/png": "[encoded data removed]",
      "text/plain": [
       "<IPython.core.display.Image object>"
      ]
     },
     "metadata": {},
     "output_type": "display_data"
    }
   ],
   "source": [
    "plot(t,S,\"-r\",t,I,\"-g\",t,R,\"-b\")\n",
    "xlim([0 200])\n",
    "xlabel(\"Time\",\"fontweight\",\"bold\")\n",
    "ylabel(\"Number\",\"fontweight\",\"bold\")\n",
    "h = legend(\"S\",\"I\",\"R\");\n",
    "legend(h,\"show\")"
   ]
  }
 ],
 "metadata": {
  "kernelspec": {
   "display_name": "Octave",
   "language": "octave",
   "name": "octave"
  },
  "language_info": {
   "file_extension": ".m",
   "help_links": [
    {
     "text": "GNU Octave",
     "url": "https://www.gnu.org/software/octave/support.html"
    },
    {
     "text": "Octave Kernel",
     "url": "https://github.com/Calysto/octave_kernel"
    },
    {
     "text": "MetaKernel Magics",
     "url": "https://github.com/calysto/metakernel/blob/master/metakernel/magics/README.md"
    }
   ],
   "mimetype": "text/x-octave",
   "name": "octave",
   "version": "4.2.2"
  }
 },
 "nbformat": 4,
 "nbformat_minor": 2
}
